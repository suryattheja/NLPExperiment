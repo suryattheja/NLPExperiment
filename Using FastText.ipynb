{
 "cells": [
  {
   "cell_type": "markdown",
   "metadata": {},
   "source": [
    "In this notebook, I use fasttext, an open source nlp implementation by facebook that can be used for contextual representation of a word in the corpus, and also, sentence classification. I use its python interface."
   ]
  },
  {
   "cell_type": "code",
   "execution_count": 1,
   "metadata": {
    "collapsed": true
   },
   "outputs": [],
   "source": [
    "from string import punctuation"
   ]
  },
  {
   "cell_type": "code",
   "execution_count": 2,
   "metadata": {
    "collapsed": true
   },
   "outputs": [],
   "source": [
    "import fasttext"
   ]
  },
  {
   "cell_type": "markdown",
   "metadata": {},
   "source": [
    "<b> replace training.data by the relative file path of the file containing training file"
   ]
  },
  {
   "cell_type": "code",
   "execution_count": 3,
   "metadata": {
    "collapsed": true
   },
   "outputs": [],
   "source": [
    "allWords=dict()\n",
    "sentences=[]\n",
    "label1=[]\n",
    "label2=[]\n",
    "lab1Count=1\n",
    "lab2Count=1\n",
    "label1dict=dict()\n",
    "label2dict=dict()\n",
    "\n",
    "for line in open('training.data','r',encoding=\"ISO-8859-1\"):\n",
    "    line=[word.lower() for word in line.strip().split(' ')]\n",
    "    labels=line[0].split(':')\n",
    "    if(len(labels)!=2 or ' ' in line[0]):\n",
    "        print('Formatting asssumption wrong')\n",
    "        break\n",
    "    sentence=[word for word in line[1:] if word not in punctuation]\n",
    "    sentences.append(sentence)\n",
    "    if(not(label1dict.get(labels[0],0))):\n",
    "        label1dict[labels[0]]=lab1Count\n",
    "        lab1Count+=1\n",
    "    if(not(label2dict.get(labels[1],0))):\n",
    "        label2dict[labels[1]]=lab2Count\n",
    "        lab2Count+=1\n",
    "    label1.append(label1dict[labels[0]])\n",
    "    label2.append(label2dict[labels[1]])\n"
   ]
  },
  {
   "cell_type": "code",
   "execution_count": 6,
   "metadata": {
    "collapsed": true
   },
   "outputs": [],
   "source": [
    "sentencesStr=[\" \".join(sentences[i]) for i in range(len(sentences))]\n",
    "sentencesTrain=sentencesStr[:int(0.8*len(sentencesStr))]\n",
    "label1Train=label1[:int(0.8*len(sentencesStr))]\n",
    "sentencesTest=sentencesStr[int(0.8*len(sentencesStr)):]\n",
    "label1Test=label1[int(0.8*len(sentencesStr)):]"
   ]
  },
  {
   "cell_type": "code",
   "execution_count": 7,
   "metadata": {
    "collapsed": true
   },
   "outputs": [],
   "source": [
    "with open(\"trainingFastText\",\"w\") as f:\n",
    "    counter=0\n",
    "    for line in sentencesTrain:\n",
    "        line=\"__label__\"+str(label1Train[counter])+\" \"+line+\"\\n\"\n",
    "        f.write(line)\n",
    "        counter+=1\n",
    "with open(\"testingFastText\",\"w\") as f:\n",
    "    counter=0\n",
    "    for line in sentencesTest:\n",
    "        line=\"__label__\"+str(label1Test[counter])+\" \"+line+\"\\n\"\n",
    "        f.write(line)\n",
    "        counter+=1"
   ]
  },
  {
   "cell_type": "code",
   "execution_count": 8,
   "metadata": {
    "collapsed": true
   },
   "outputs": [],
   "source": [
    "classifier = fasttext.supervised('trainingFastText', 'model')"
   ]
  },
  {
   "cell_type": "code",
   "execution_count": 9,
   "metadata": {
    "collapsed": true
   },
   "outputs": [],
   "source": [
    "result = classifier.test('testingFastText')"
   ]
  },
  {
   "cell_type": "code",
   "execution_count": 10,
   "metadata": {},
   "outputs": [
    {
     "name": "stdout",
     "output_type": "stream",
     "text": [
      "The model results in an accuracy of  0.8854739566483338\n"
     ]
    }
   ],
   "source": [
    "print('The model results in an accuracy of ',result.precision)"
   ]
  },
  {
   "cell_type": "markdown",
   "metadata": {},
   "source": [
    "Checking the performance of the algorithm using random sentences"
   ]
  },
  {
   "cell_type": "code",
   "execution_count": 39,
   "metadata": {},
   "outputs": [
    {
     "data": {
      "text/plain": [
       "'what currency is used in australia'"
      ]
     },
     "execution_count": 39,
     "metadata": {},
     "output_type": "execute_result"
    }
   ],
   "source": [
    "sentencesStr[-1]"
   ]
  },
  {
   "cell_type": "code",
   "execution_count": 40,
   "metadata": {},
   "outputs": [
    {
     "data": {
      "text/plain": [
       "2"
      ]
     },
     "execution_count": 40,
     "metadata": {},
     "output_type": "execute_result"
    }
   ],
   "source": [
    "label1[-1]"
   ]
  },
  {
   "cell_type": "code",
   "execution_count": 42,
   "metadata": {},
   "outputs": [
    {
     "data": {
      "text/plain": [
       "{'abbr': 3, 'desc': 1, 'enty': 2, 'hum': 4, 'loc': 6, 'num': 5}"
      ]
     },
     "execution_count": 42,
     "metadata": {},
     "output_type": "execute_result"
    }
   ],
   "source": [
    "label1dict"
   ]
  }
 ],
 "metadata": {
  "kernelspec": {
   "display_name": "Python 3",
   "language": "python",
   "name": "python3"
  },
  "language_info": {
   "codemirror_mode": {
    "name": "ipython",
    "version": 3
   },
   "file_extension": ".py",
   "mimetype": "text/x-python",
   "name": "python",
   "nbconvert_exporter": "python",
   "pygments_lexer": "ipython3",
   "version": "3.6.3"
  }
 },
 "nbformat": 4,
 "nbformat_minor": 2
}
